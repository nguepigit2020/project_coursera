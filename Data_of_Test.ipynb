{
 "cells": [
  {
   "cell_type": "code",
   "execution_count": 65,
   "metadata": {
    "collapsed": true
   },
   "outputs": [],
   "source": [
    "import pandas as pd\n",
    "import numpy as np\n",
    "from csv import *\n",
    "import csv"
   ]
  },
  {
   "cell_type": "code",
   "execution_count": 66,
   "metadata": {
    "collapsed": true
   },
   "outputs": [],
   "source": [
    "filePath = '/home/nguepi/Bureau/Git_repository/Projet_code/ZKP_For_Merkle_Tree/Data.csv'"
   ]
  },
  {
   "cell_type": "code",
   "execution_count": 67,
   "metadata": {
    "collapsed": false
   },
   "outputs": [
    {
     "data": {
      "text/html": [
       "<div>\n",
       "<table border=\"1\" class=\"dataframe\">\n",
       "  <thead>\n",
       "    <tr style=\"text-align: right;\">\n",
       "      <th></th>\n",
       "      <th>Name</th>\n",
       "      <th>Country</th>\n",
       "      <th>E-mail address</th>\n",
       "      <th>City of residence</th>\n",
       "      <th>Social Security Code</th>\n",
       "      <th>Sex</th>\n",
       "      <th>marital status</th>\n",
       "    </tr>\n",
       "  </thead>\n",
       "  <tbody>\n",
       "    <tr>\n",
       "      <th>0</th>\n",
       "      <td>Nguepi</td>\n",
       "      <td>Cameroun</td>\n",
       "      <td>idriss.n.nguefack@aims-senegal.org</td>\n",
       "      <td>Mbour</td>\n",
       "      <td>56892</td>\n",
       "      <td>M</td>\n",
       "      <td>Celibataire</td>\n",
       "    </tr>\n",
       "    <tr>\n",
       "      <th>1</th>\n",
       "      <td>LOWE</td>\n",
       "      <td>Cameroun</td>\n",
       "      <td>650417150</td>\n",
       "      <td>DSCHANG</td>\n",
       "      <td>52698</td>\n",
       "      <td>F</td>\n",
       "      <td>Celibataire</td>\n",
       "    </tr>\n",
       "    <tr>\n",
       "      <th>2</th>\n",
       "      <td>MEITE</td>\n",
       "      <td>Côte d'Ivoire</td>\n",
       "      <td>nokememeitee@gmail.com</td>\n",
       "      <td>Mbour</td>\n",
       "      <td>52698</td>\n",
       "      <td>F</td>\n",
       "      <td>Celibataire</td>\n",
       "    </tr>\n",
       "    <tr>\n",
       "      <th>3</th>\n",
       "      <td>Elsa</td>\n",
       "      <td>Congo</td>\n",
       "      <td>idrissnguepi@yahoo</td>\n",
       "      <td>Dschang</td>\n",
       "      <td>54366</td>\n",
       "      <td>M</td>\n",
       "      <td>Marier</td>\n",
       "    </tr>\n",
       "    <tr>\n",
       "      <th>4</th>\n",
       "      <td>Jague</td>\n",
       "      <td>Cameroun</td>\n",
       "      <td>jaguenina@gmail.com</td>\n",
       "      <td>Douala</td>\n",
       "      <td>55555</td>\n",
       "      <td>F</td>\n",
       "      <td>Celibataire</td>\n",
       "    </tr>\n",
       "    <tr>\n",
       "      <th>5</th>\n",
       "      <td>TSAGUE</td>\n",
       "      <td>CAMEROUN</td>\n",
       "      <td>laurablondelle1998@.com</td>\n",
       "      <td>YAOUNDÉ</td>\n",
       "      <td>52698</td>\n",
       "      <td>F</td>\n",
       "      <td>Celibataire</td>\n",
       "    </tr>\n",
       "    <tr>\n",
       "      <th>6</th>\n",
       "      <td>ZOYUIM</td>\n",
       "      <td>Cameroun</td>\n",
       "      <td>zoyuimjuvintus@gmail.com</td>\n",
       "      <td>Yaoundé</td>\n",
       "      <td>52698</td>\n",
       "      <td>M</td>\n",
       "      <td>Celibataire</td>\n",
       "    </tr>\n",
       "    <tr>\n",
       "      <th>7</th>\n",
       "      <td>Jaza</td>\n",
       "      <td>Cameroun</td>\n",
       "      <td>jazafolefacksinclair@yahoo.fr</td>\n",
       "      <td>Douala</td>\n",
       "      <td>52698</td>\n",
       "      <td>M</td>\n",
       "      <td>Celibataire</td>\n",
       "    </tr>\n",
       "    <tr>\n",
       "      <th>8</th>\n",
       "      <td>Stella Elsa</td>\n",
       "      <td>Togo</td>\n",
       "      <td>elsyngam@gmail.com</td>\n",
       "      <td>Yaoundé</td>\n",
       "      <td>52698</td>\n",
       "      <td>F</td>\n",
       "      <td>Celibataire</td>\n",
       "    </tr>\n",
       "  </tbody>\n",
       "</table>\n",
       "</div>"
      ],
      "text/plain": [
       "          Name        Country                      E-mail address  \\\n",
       "0       Nguepi       Cameroun  idriss.n.nguefack@aims-senegal.org   \n",
       "1        LOWE       Cameroun                            650417150   \n",
       "2        MEITE  Côte d'Ivoire              nokememeitee@gmail.com   \n",
       "3         Elsa          Congo                  idrissnguepi@yahoo   \n",
       "4        Jague       Cameroun                 jaguenina@gmail.com   \n",
       "5       TSAGUE       CAMEROUN             laurablondelle1998@.com   \n",
       "6      ZOYUIM        Cameroun            zoyuimjuvintus@gmail.com   \n",
       "7        Jaza        Cameroun       jazafolefacksinclair@yahoo.fr   \n",
       "8  Stella Elsa           Togo                  elsyngam@gmail.com   \n",
       "\n",
       "  City of residence  Social Security Code Sex marital status  \n",
       "0             Mbour                 56892   M    Celibataire  \n",
       "1           DSCHANG                 52698   F    Celibataire  \n",
       "2             Mbour                 52698   F    Celibataire  \n",
       "3           Dschang                 54366   M         Marier  \n",
       "4            Douala                 55555   F    Celibataire  \n",
       "5           YAOUNDÉ                 52698   F    Celibataire  \n",
       "6           Yaoundé                 52698   M    Celibataire  \n",
       "7            Douala                 52698   M    Celibataire  \n",
       "8           Yaoundé                 52698   F    Celibataire  "
      ]
     },
     "execution_count": 67,
     "metadata": {},
     "output_type": "execute_result"
    }
   ],
   "source": [
    "Data=pd.read_csv(filePath)\n",
    "Data"
   ]
  },
  {
   "cell_type": "code",
   "execution_count": 54,
   "metadata": {
    "collapsed": false
   },
   "outputs": [],
   "source": [
    "import pandas as pd\n",
    "saved_column = Data.Nom #you can also use df['column_name']\n"
   ]
  },
  {
   "cell_type": "code",
   "execution_count": 55,
   "metadata": {
    "collapsed": false
   },
   "outputs": [],
   "source": [
    "L=[saved_column[i] for i in range(len(saved_column))]"
   ]
  },
  {
   "cell_type": "code",
   "execution_count": 56,
   "metadata": {
    "collapsed": false
   },
   "outputs": [
    {
     "data": {
      "text/plain": [
       "['Nguepi',\n",
       " 'LOWE ',\n",
       " 'MEITE',\n",
       " 'Jeft',\n",
       " 'Jague',\n",
       " 'TSAGUE',\n",
       " 'ZOYUIM ',\n",
       " 'Jaza ',\n",
       " 'Stella Elsa']"
      ]
     },
     "execution_count": 56,
     "metadata": {},
     "output_type": "execute_result"
    }
   ],
   "source": [
    "L"
   ]
  },
  {
   "cell_type": "code",
   "execution_count": null,
   "metadata": {
    "collapsed": true
   },
   "outputs": [],
   "source": []
  },
  {
   "cell_type": "code",
   "execution_count": null,
   "metadata": {
    "collapsed": true
   },
   "outputs": [],
   "source": []
  }
 ],
 "metadata": {
  "kernelspec": {
   "display_name": "Python 3",
   "language": "python",
   "name": "python3"
  },
  "language_info": {
   "codemirror_mode": {
    "name": "ipython",
    "version": 3
   },
   "file_extension": ".py",
   "mimetype": "text/x-python",
   "name": "python",
   "nbconvert_exporter": "python",
   "pygments_lexer": "ipython3",
   "version": "3.5.3"
  }
 },
 "nbformat": 4,
 "nbformat_minor": 2
}
